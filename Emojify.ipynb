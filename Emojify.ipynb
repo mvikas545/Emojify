{
  "nbformat": 4,
  "nbformat_minor": 0,
  "metadata": {
    "colab": {
      "name": "Emojify.ipynb",
      "provenance": [],
      "collapsed_sections": [],
      "authorship_tag": "ABX9TyPFIm88ncZGpkdzN/tNgWTG"
    },
    "kernelspec": {
      "name": "python3",
      "display_name": "Python 3"
    },
    "accelerator": "GPU"
  },
  "cells": [
    {
      "cell_type": "markdown",
      "metadata": {
        "id": "eKXnlXNWM8cI",
        "colab_type": "text"
      },
      "source": [
        "**Emozify**\n",
        "\n",
        "---\n",
        "\n",
        "\n",
        "\n",
        "---\n",
        "\n",
        "![alt text](https://cdn0.tnwcdn.com/wp-content/blogs.dir/1/files/2015/05/emoji-love-730x411.jpg)\n"
      ]
    },
    {
      "cell_type": "code",
      "metadata": {
        "id": "Sj7fwV0z9flj",
        "colab_type": "code",
        "colab": {}
      },
      "source": [
        "from google.colab import drive\n",
        "drive.mount('/content/drive')"
      ],
      "execution_count": 0,
      "outputs": []
    },
    {
      "cell_type": "code",
      "metadata": {
        "id": "pNUnc9WdBNZU",
        "colab_type": "code",
        "colab": {}
      },
      "source": [
        "pip install emoji"
      ],
      "execution_count": 0,
      "outputs": []
    },
    {
      "cell_type": "code",
      "metadata": {
        "id": "sC5W7rpp9gaj",
        "colab_type": "code",
        "colab": {
          "base_uri": "https://localhost:8080/",
          "height": 101
        },
        "outputId": "8ee1e31a-dcec-4f95-b47a-f90531c0b2db"
      },
      "source": [
        "import numpy as np\n",
        "from emoji_util import *\n",
        "import emoji\n",
        "import matplotlib.pyplot as plt\n",
        "import pandas as pd\n",
        "np.random.seed(0)\n",
        "from keras.models import Model\n",
        "from keras.layers import Dense, Input, Dropout, LSTM, Activation\n",
        "from keras.layers.embeddings import Embedding\n",
        "from keras.preprocessing import sequence\n",
        "from keras.initializers import glorot_uniform\n",
        "np.random.seed(1)\n",
        "\n",
        "%matplotlib inline"
      ],
      "execution_count": 4,
      "outputs": [
        {
          "output_type": "stream",
          "text": [
            "Using TensorFlow backend.\n"
          ],
          "name": "stderr"
        },
        {
          "output_type": "display_data",
          "data": {
            "text/html": [
              "<p style=\"color: red;\">\n",
              "The default version of TensorFlow in Colab will soon switch to TensorFlow 2.x.<br>\n",
              "We recommend you <a href=\"https://www.tensorflow.org/guide/migrate\" target=\"_blank\">upgrade</a> now \n",
              "or ensure your notebook will continue to use TensorFlow 1.x via the <code>%tensorflow_version 1.x</code> magic:\n",
              "<a href=\"https://colab.research.google.com/notebooks/tensorflow_version.ipynb\" target=\"_blank\">more info</a>.</p>\n"
            ],
            "text/plain": [
              "<IPython.core.display.HTML object>"
            ]
          },
          "metadata": {
            "tags": []
          }
        }
      ]
    },
    {
      "cell_type": "code",
      "metadata": {
        "id": "mwkzBlLgA1DC",
        "colab_type": "code",
        "colab": {}
      },
      "source": [
        "train_data=pd.read_csv('/content/drive/My Drive/emojify/train_emoji.csv')\n",
        "X_train=train_data['text']\n",
        "Y_train=train_data['label']\n",
        "\n",
        "test_data=pd.read_csv('/content/drive/My Drive/emojify/tesss.csv')\n",
        "X_test=test_data['text']\n",
        "Y_test=test_data['labels']"
      ],
      "execution_count": 0,
      "outputs": []
    },
    {
      "cell_type": "code",
      "metadata": {
        "id": "GLc8g4k7Bfbo",
        "colab_type": "code",
        "colab": {
          "base_uri": "https://localhost:8080/",
          "height": 35
        },
        "outputId": "f435978d-2503-4585-fa74-71a0977ed86e"
      },
      "source": [
        "\n",
        "Y_test=np.array(Y_test)\n",
        "Y_train=np.array(Y_train)\n",
        "X_train.shape,Y_train.shape,X_test.shape,Y_test.shape"
      ],
      "execution_count": 6,
      "outputs": [
        {
          "output_type": "execute_result",
          "data": {
            "text/plain": [
              "((132,), (132,), (56,), (56,))"
            ]
          },
          "metadata": {
            "tags": []
          },
          "execution_count": 6
        }
      ]
    },
    {
      "cell_type": "code",
      "metadata": {
        "id": "xf_l2IC3EtFT",
        "colab_type": "code",
        "colab": {
          "base_uri": "https://localhost:8080/",
          "height": 35
        },
        "outputId": "c840cfad-d0b7-48d3-fb48-ea5b29f54c00"
      },
      "source": [
        "maxlen=len(max(X_train,key=len).split())\n",
        "maxlen"
      ],
      "execution_count": 7,
      "outputs": [
        {
          "output_type": "execute_result",
          "data": {
            "text/plain": [
              "10"
            ]
          },
          "metadata": {
            "tags": []
          },
          "execution_count": 7
        }
      ]
    },
    {
      "cell_type": "code",
      "metadata": {
        "id": "ILdJ5HU8E_Ku",
        "colab_type": "code",
        "colab": {
          "base_uri": "https://localhost:8080/",
          "height": 108
        },
        "outputId": "7f529b48-4fc3-4de9-cfba-47a83b2d5b7c"
      },
      "source": [
        "for idx in range(5):\n",
        "  print(X_train[idx],label_to_emoji(Y_train[idx]))"
      ],
      "execution_count": 8,
      "outputs": [
        {
          "output_type": "stream",
          "text": [
            "never talk to me again 😞\n",
            "I am proud of your achievements 😄\n",
            "It is the worst day in my life 😞\n",
            "Miss you so much ❤️\n",
            "food is life 🍴\n"
          ],
          "name": "stdout"
        }
      ]
    },
    {
      "cell_type": "code",
      "metadata": {
        "id": "hkCiZ5xNFQOT",
        "colab_type": "code",
        "colab": {
          "base_uri": "https://localhost:8080/",
          "height": 108
        },
        "outputId": "075753d0-8b11-46a5-a33e-be4c4af9e607"
      },
      "source": [
        "#convert labels to its One hot representation\n",
        "Y_oh_train=convert_to_one_hot(Y_train,C=5)\n",
        "Y_oh_test=convert_to_one_hot(Y_test,C=5)\n",
        "Y_oh_train[:5]"
      ],
      "execution_count": 9,
      "outputs": [
        {
          "output_type": "execute_result",
          "data": {
            "text/plain": [
              "array([[0., 0., 0., 1., 0.],\n",
              "       [0., 0., 1., 0., 0.],\n",
              "       [0., 0., 0., 1., 0.],\n",
              "       [1., 0., 0., 0., 0.],\n",
              "       [0., 0., 0., 0., 1.]])"
            ]
          },
          "metadata": {
            "tags": []
          },
          "execution_count": 9
        }
      ]
    },
    {
      "cell_type": "code",
      "metadata": {
        "id": "L5uWnnAJCPsu",
        "colab_type": "code",
        "colab": {}
      },
      "source": [
        "word_to_index, index_to_word, word_to_vec_map = read_glove_vecs('/content/drive/My Drive/emojify/glove.6B.50d.txt')"
      ],
      "execution_count": 0,
      "outputs": []
    },
    {
      "cell_type": "code",
      "metadata": {
        "id": "1okGiN7LFuUz",
        "colab_type": "code",
        "colab": {}
      },
      "source": [
        "#Convert Sentence to index\n",
        "def sentences_to_indices(X, word_to_index, max_len):\n",
        "    m = X.shape[0]                         \n",
        "    X_indices =np.zeros((m,max_len))\n",
        "    for i in range(m):                              \n",
        "        sentence_words =[w.lower() for w in X[i].split()]\n",
        "        j = 0\n",
        "        for w in sentence_words:\n",
        "            X_indices[i, j] =word_to_index[w]\n",
        "            j =j+1\n",
        "    return X_indices"
      ],
      "execution_count": 0,
      "outputs": []
    },
    {
      "cell_type": "code",
      "metadata": {
        "id": "Uua2fjNsHH9R",
        "colab_type": "code",
        "colab": {}
      },
      "source": [
        "def pretrained_embedding_layer(word_to_vec_map, word_to_index):\n",
        "    vocab_len = len(word_to_index) + 1                  \n",
        "    emb_dim = word_to_vec_map[\"cucumber\"].shape[0]      \n",
        "    emb_matrix = np.zeros((vocab_len,emb_dim))\n",
        "    for word, idx in word_to_index.items():\n",
        "        emb_matrix[idx, :] = word_to_vec_map[word]\n",
        "    embedding_layer =Embedding(vocab_len,emb_dim, trainable=False) \n",
        "    embedding_layer.build((None,)) \n",
        "    embedding_layer.set_weights([emb_matrix])\n",
        "    return embedding_layer"
      ],
      "execution_count": 0,
      "outputs": []
    },
    {
      "cell_type": "code",
      "metadata": {
        "id": "WrQ-3ShPHjnd",
        "colab_type": "code",
        "colab": {}
      },
      "source": [
        "def Emojify_V2(input_shape, word_to_vec_map, word_to_index):\n",
        "    sentence_indices =Input(shape=input_shape,dtype=\"int32\")\n",
        "    embedding_layer =pretrained_embedding_layer(word_to_vec_map, word_to_index)\n",
        "    embeddings =embedding_layer(sentence_indices)\n",
        "    X =LSTM(units=128,return_sequences=True)(embeddings)\n",
        "    X = Dropout((0.5))(X)\n",
        "    X = LSTM(units=128,return_sequences=False)(X)\n",
        "    X = Dropout((0.5))(X)\n",
        "    X = Dense(5)(X)\n",
        "    X =Activation('softmax')(X)\n",
        "    model = Model(inputs=sentence_indices,outputs=X)\n",
        "    return model"
      ],
      "execution_count": 0,
      "outputs": []
    },
    {
      "cell_type": "code",
      "metadata": {
        "id": "hk1Cb6BPILrs",
        "colab_type": "code",
        "colab": {
          "base_uri": "https://localhost:8080/",
          "height": 454
        },
        "outputId": "3ae6270e-d229-45b6-e8cf-da0aa879bc7a"
      },
      "source": [
        "model = Emojify_V2((maxlen,), word_to_vec_map, word_to_index)\n",
        "model.summary()"
      ],
      "execution_count": 15,
      "outputs": [
        {
          "output_type": "stream",
          "text": [
            "Model: \"model_2\"\n",
            "_________________________________________________________________\n",
            "Layer (type)                 Output Shape              Param #   \n",
            "=================================================================\n",
            "input_2 (InputLayer)         (None, 10)                0         \n",
            "_________________________________________________________________\n",
            "embedding_2 (Embedding)      (None, 10, 50)            20000050  \n",
            "_________________________________________________________________\n",
            "lstm_3 (LSTM)                (None, 10, 128)           91648     \n",
            "_________________________________________________________________\n",
            "dropout_3 (Dropout)          (None, 10, 128)           0         \n",
            "_________________________________________________________________\n",
            "lstm_4 (LSTM)                (None, 128)               131584    \n",
            "_________________________________________________________________\n",
            "dropout_4 (Dropout)          (None, 128)               0         \n",
            "_________________________________________________________________\n",
            "dense_2 (Dense)              (None, 5)                 645       \n",
            "_________________________________________________________________\n",
            "activation_2 (Activation)    (None, 5)                 0         \n",
            "=================================================================\n",
            "Total params: 20,223,927\n",
            "Trainable params: 223,877\n",
            "Non-trainable params: 20,000,050\n",
            "_________________________________________________________________\n"
          ],
          "name": "stdout"
        }
      ]
    },
    {
      "cell_type": "code",
      "metadata": {
        "id": "b6GdJde5IMtT",
        "colab_type": "code",
        "colab": {
          "base_uri": "https://localhost:8080/",
          "height": 110
        },
        "outputId": "9e013862-4aaf-42b7-b8a1-1362aead8ffc"
      },
      "source": [
        "model.compile(loss='categorical_crossentropy', optimizer='adam', metrics=['accuracy'])"
      ],
      "execution_count": 16,
      "outputs": [
        {
          "output_type": "stream",
          "text": [
            "WARNING:tensorflow:From /usr/local/lib/python3.6/dist-packages/keras/optimizers.py:793: The name tf.train.Optimizer is deprecated. Please use tf.compat.v1.train.Optimizer instead.\n",
            "\n",
            "WARNING:tensorflow:From /usr/local/lib/python3.6/dist-packages/keras/backend/tensorflow_backend.py:3576: The name tf.log is deprecated. Please use tf.math.log instead.\n",
            "\n"
          ],
          "name": "stdout"
        }
      ]
    },
    {
      "cell_type": "code",
      "metadata": {
        "id": "IAGQhZQQIQhQ",
        "colab_type": "code",
        "colab": {
          "base_uri": "https://localhost:8080/",
          "height": 35
        },
        "outputId": "df929dcb-d920-4846-c352-1004615a652c"
      },
      "source": [
        "X_train_indices = sentences_to_indices(X_train, word_to_index, maxlen)\n",
        "Y_train_oh = convert_to_one_hot(Y_train, C = 5)\n",
        "X_train_indices.shape,Y_train_oh.shape"
      ],
      "execution_count": 17,
      "outputs": [
        {
          "output_type": "execute_result",
          "data": {
            "text/plain": [
              "((132, 10), (132, 5))"
            ]
          },
          "metadata": {
            "tags": []
          },
          "execution_count": 17
        }
      ]
    },
    {
      "cell_type": "code",
      "metadata": {
        "id": "R9FbwaoeIRQK",
        "colab_type": "code",
        "colab": {
          "base_uri": "https://localhost:8080/",
          "height": 1000
        },
        "outputId": "4b8a770f-3c25-4351-ebf3-939ec2091496"
      },
      "source": [
        "model.fit(X_train_indices, Y_train_oh, epochs = 50, batch_size = 32, shuffle=True)"
      ],
      "execution_count": 18,
      "outputs": [
        {
          "output_type": "stream",
          "text": [
            "WARNING:tensorflow:From /usr/local/lib/python3.6/dist-packages/tensorflow_core/python/ops/math_grad.py:1424: where (from tensorflow.python.ops.array_ops) is deprecated and will be removed in a future version.\n",
            "Instructions for updating:\n",
            "Use tf.where in 2.0, which has the same broadcast rule as np.where\n",
            "WARNING:tensorflow:From /usr/local/lib/python3.6/dist-packages/keras/backend/tensorflow_backend.py:1033: The name tf.assign_add is deprecated. Please use tf.compat.v1.assign_add instead.\n",
            "\n",
            "WARNING:tensorflow:From /usr/local/lib/python3.6/dist-packages/keras/backend/tensorflow_backend.py:1020: The name tf.assign is deprecated. Please use tf.compat.v1.assign instead.\n",
            "\n",
            "Epoch 1/50\n",
            "132/132 [==============================] - 3s 22ms/step - loss: 1.5890 - acc: 0.2652\n",
            "Epoch 2/50\n",
            "132/132 [==============================] - 0s 1ms/step - loss: 1.5390 - acc: 0.3030\n",
            "Epoch 3/50\n",
            "132/132 [==============================] - 0s 1ms/step - loss: 1.4704 - acc: 0.3712\n",
            "Epoch 4/50\n",
            "132/132 [==============================] - 0s 2ms/step - loss: 1.4399 - acc: 0.3939\n",
            "Epoch 5/50\n",
            "132/132 [==============================] - 0s 1ms/step - loss: 1.3696 - acc: 0.4773\n",
            "Epoch 6/50\n",
            "132/132 [==============================] - 0s 1ms/step - loss: 1.2215 - acc: 0.5227\n",
            "Epoch 7/50\n",
            "132/132 [==============================] - 0s 1ms/step - loss: 1.1347 - acc: 0.5379\n",
            "Epoch 8/50\n",
            "132/132 [==============================] - 0s 1ms/step - loss: 0.9987 - acc: 0.6136\n",
            "Epoch 9/50\n",
            "132/132 [==============================] - 0s 1ms/step - loss: 0.9660 - acc: 0.6667\n",
            "Epoch 10/50\n",
            "132/132 [==============================] - 0s 2ms/step - loss: 0.7485 - acc: 0.7500\n",
            "Epoch 11/50\n",
            "132/132 [==============================] - 0s 1ms/step - loss: 0.6546 - acc: 0.7879\n",
            "Epoch 12/50\n",
            "132/132 [==============================] - 0s 1ms/step - loss: 0.8031 - acc: 0.7652\n",
            "Epoch 13/50\n",
            "132/132 [==============================] - 0s 1ms/step - loss: 0.5255 - acc: 0.8409\n",
            "Epoch 14/50\n",
            "132/132 [==============================] - 0s 1ms/step - loss: 0.6890 - acc: 0.7348\n",
            "Epoch 15/50\n",
            "132/132 [==============================] - 0s 1ms/step - loss: 0.5683 - acc: 0.7576\n",
            "Epoch 16/50\n",
            "132/132 [==============================] - 0s 2ms/step - loss: 0.5737 - acc: 0.7955\n",
            "Epoch 17/50\n",
            "132/132 [==============================] - 0s 1ms/step - loss: 0.4590 - acc: 0.8712\n",
            "Epoch 18/50\n",
            "132/132 [==============================] - 0s 2ms/step - loss: 0.4117 - acc: 0.8788\n",
            "Epoch 19/50\n",
            "132/132 [==============================] - 0s 2ms/step - loss: 0.3766 - acc: 0.8636\n",
            "Epoch 20/50\n",
            "132/132 [==============================] - 0s 2ms/step - loss: 0.3532 - acc: 0.9015\n",
            "Epoch 21/50\n",
            "132/132 [==============================] - 0s 1ms/step - loss: 0.3416 - acc: 0.8864\n",
            "Epoch 22/50\n",
            "132/132 [==============================] - 0s 1ms/step - loss: 0.2780 - acc: 0.9167\n",
            "Epoch 23/50\n",
            "132/132 [==============================] - 0s 2ms/step - loss: 0.2755 - acc: 0.9167\n",
            "Epoch 24/50\n",
            "132/132 [==============================] - 0s 2ms/step - loss: 0.2544 - acc: 0.9167\n",
            "Epoch 25/50\n",
            "132/132 [==============================] - 0s 2ms/step - loss: 0.2808 - acc: 0.8864\n",
            "Epoch 26/50\n",
            "132/132 [==============================] - 0s 2ms/step - loss: 0.2727 - acc: 0.9015\n",
            "Epoch 27/50\n",
            "132/132 [==============================] - 0s 1ms/step - loss: 0.3150 - acc: 0.8939\n",
            "Epoch 28/50\n",
            "132/132 [==============================] - 0s 1ms/step - loss: 0.2598 - acc: 0.8864\n",
            "Epoch 29/50\n",
            "132/132 [==============================] - 0s 1ms/step - loss: 0.2660 - acc: 0.9242\n",
            "Epoch 30/50\n",
            "132/132 [==============================] - 0s 1ms/step - loss: 0.2406 - acc: 0.9015\n",
            "Epoch 31/50\n",
            "132/132 [==============================] - 0s 1ms/step - loss: 0.3200 - acc: 0.8864\n",
            "Epoch 32/50\n",
            "132/132 [==============================] - 0s 1ms/step - loss: 0.1765 - acc: 0.9621\n",
            "Epoch 33/50\n",
            "132/132 [==============================] - 0s 1ms/step - loss: 0.3171 - acc: 0.8864\n",
            "Epoch 34/50\n",
            "132/132 [==============================] - 0s 1ms/step - loss: 0.1526 - acc: 0.9545\n",
            "Epoch 35/50\n",
            "132/132 [==============================] - 0s 2ms/step - loss: 0.1553 - acc: 0.9621\n",
            "Epoch 36/50\n",
            "132/132 [==============================] - 0s 2ms/step - loss: 0.1248 - acc: 0.9697\n",
            "Epoch 37/50\n",
            "132/132 [==============================] - 0s 2ms/step - loss: 0.1145 - acc: 0.9621\n",
            "Epoch 38/50\n",
            "132/132 [==============================] - 0s 2ms/step - loss: 0.1678 - acc: 0.9394\n",
            "Epoch 39/50\n",
            "132/132 [==============================] - 0s 1ms/step - loss: 0.0799 - acc: 0.9848\n",
            "Epoch 40/50\n",
            "132/132 [==============================] - 0s 1ms/step - loss: 0.0614 - acc: 0.9848\n",
            "Epoch 41/50\n",
            "132/132 [==============================] - 0s 1ms/step - loss: 0.0736 - acc: 0.9773\n",
            "Epoch 42/50\n",
            "132/132 [==============================] - 0s 1ms/step - loss: 0.0386 - acc: 0.9848\n",
            "Epoch 43/50\n",
            "132/132 [==============================] - 0s 1ms/step - loss: 0.0380 - acc: 1.0000\n",
            "Epoch 44/50\n",
            "132/132 [==============================] - 0s 1ms/step - loss: 0.0251 - acc: 1.0000\n",
            "Epoch 45/50\n",
            "132/132 [==============================] - 0s 1ms/step - loss: 0.0196 - acc: 1.0000\n",
            "Epoch 46/50\n",
            "132/132 [==============================] - 0s 1ms/step - loss: 0.0153 - acc: 1.0000\n",
            "Epoch 47/50\n",
            "132/132 [==============================] - 0s 1ms/step - loss: 0.0306 - acc: 0.9924\n",
            "Epoch 48/50\n",
            "132/132 [==============================] - 0s 1ms/step - loss: 0.0119 - acc: 1.0000\n",
            "Epoch 49/50\n",
            "132/132 [==============================] - 0s 1ms/step - loss: 0.0121 - acc: 1.0000\n",
            "Epoch 50/50\n",
            "132/132 [==============================] - 0s 1ms/step - loss: 0.0076 - acc: 1.0000\n"
          ],
          "name": "stdout"
        },
        {
          "output_type": "execute_result",
          "data": {
            "text/plain": [
              "<keras.callbacks.History at 0x7f9d3a506be0>"
            ]
          },
          "metadata": {
            "tags": []
          },
          "execution_count": 18
        }
      ]
    },
    {
      "cell_type": "code",
      "metadata": {
        "id": "mZ60Jx7cIX34",
        "colab_type": "code",
        "colab": {
          "base_uri": "https://localhost:8080/",
          "height": 72
        },
        "outputId": "b8401bd8-0c65-4c7e-8f01-6be86a1e6028"
      },
      "source": [
        "X_test_indices = sentences_to_indices(X_test, word_to_index, max_len = maxlen)\n",
        "Y_test_oh = convert_to_one_hot(Y_test, C = 5)\n",
        "loss, acc = model.evaluate(X_test_indices, Y_test_oh)\n",
        "print()\n",
        "print(\"Test accuracy = \", acc)"
      ],
      "execution_count": 19,
      "outputs": [
        {
          "output_type": "stream",
          "text": [
            "56/56 [==============================] - 0s 4ms/step\n",
            "\n",
            "Test accuracy =  0.8928571513720921\n"
          ],
          "name": "stdout"
        }
      ]
    },
    {
      "cell_type": "code",
      "metadata": {
        "id": "YALmFAmMIYWw",
        "colab_type": "code",
        "colab": {
          "base_uri": "https://localhost:8080/",
          "height": 126
        },
        "outputId": "12f58afc-4af6-41ab-9bd1-466d22697037"
      },
      "source": [
        "\n",
        "C = 5\n",
        "y_test_oh = np.eye(C)[Y_test.reshape(-1)]\n",
        "X_test_indices = sentences_to_indices(X_test, word_to_index, maxlen)\n",
        "pred = model.predict(X_test_indices)\n",
        "for i in range(len(X_test)):\n",
        "    x = X_test_indices\n",
        "    num = np.argmax(pred[i])\n",
        "    if(num != Y_test[i]):\n",
        "        print('Expected emoji:'+ label_to_emoji(Y_test[i]) + ' prediction: '+ X_test[i] + label_to_emoji(num).strip())"
      ],
      "execution_count": 20,
      "outputs": [
        {
          "output_type": "stream",
          "text": [
            "Expected emoji:😄 prediction: she got me a nice present\t❤️\n",
            "Expected emoji:😞 prediction: work is hard\t😄\n",
            "Expected emoji:😞 prediction: This girl is messing with me\t❤️\n",
            "Expected emoji:😞 prediction: she is a bully\t❤️\n",
            "Expected emoji:😞 prediction: go away\t⚾\n",
            "Expected emoji:😞 prediction: yesterday we lost again\t⚾\n"
          ],
          "name": "stdout"
        }
      ]
    },
    {
      "cell_type": "code",
      "metadata": {
        "id": "y4WiZ061Ifak",
        "colab_type": "code",
        "colab": {
          "base_uri": "https://localhost:8080/",
          "height": 35
        },
        "outputId": "cfed27d4-9b33-44e1-9d1d-7ead0efeed39"
      },
      "source": [
        "  \n",
        "x_test = np.array(['not feeling happy'])\n",
        "X_test_indices = sentences_to_indices(x_test, word_to_index, maxlen)\n",
        "print(x_test[0] +' '+  label_to_emoji(np.argmax(model.predict(X_test_indices))))"
      ],
      "execution_count": 21,
      "outputs": [
        {
          "output_type": "stream",
          "text": [
            "not feeling happy 😞\n"
          ],
          "name": "stdout"
        }
      ]
    },
    {
      "cell_type": "code",
      "metadata": {
        "id": "85Jn8CdPLnxE",
        "colab_type": "code",
        "colab": {
          "base_uri": "https://localhost:8080/",
          "height": 457
        },
        "outputId": "1bd6c888-5813-49b8-c590-f258e9bcbdb6"
      },
      "source": [
        "    #plot confusion matrix\n",
        "    X_test_indices = sentences_to_indices(X_test, word_to_index, maxlen)\n",
        "    pred_test=np.argmax(model.predict(X_test_indices),axis=1)\n",
        "    df_confusion = pd.crosstab(Y_test, pred_test.reshape(pred_test.shape[0],), rownames=['Actual'], colnames=['Predicted'], margins=True)\n",
        "    \n",
        "    df_conf_norm = df_confusion / df_confusion.sum(axis=1)\n",
        "\n",
        "    import seaborn\n",
        "    #plt.style.use('ggplot')\n",
        "    figure=plt.figure(figsize=(6,6))\n",
        "    seaborn.heatmap(df_conf_norm ,annot=True,cmap=plt.cm.Blues)\n",
        "    plt.tight_layout()\n",
        "    plt.ylabel('True label')\n",
        "    plt.xlabel('Predicted label')\n",
        "    plt.title(\"Confusion Matrix\")\n",
        "    plt.show()\n",
        "   "
      ],
      "execution_count": 22,
      "outputs": [
        {
          "output_type": "display_data",
          "data": {
            "image/png": "[encoded data removed]",
            "text/plain": [
              "<Figure size 432x432 with 2 Axes>"
            ]
          },
          "metadata": {
            "tags": []
          }
        }
      ]
    },
    {
      "cell_type": "code",
      "metadata": {
        "id": "5-Fca1InEsZt",
        "colab_type": "code",
        "colab": {
          "base_uri": "https://localhost:8080/",
          "height": 90
        },
        "outputId": "f40f536d-aa68-40fc-de22-1de06f7194dd"
      },
      "source": [
        "text=np.array([input(\"Enter text: \")])\n",
        "text_indices=sentences_to_indices(text, word_to_index, max_len = maxlen)\n",
        "print(\"\\nEmojify Text: \")\n",
        "print(text[0] +' '+  label_to_emoji(np.argmax(model.predict(text_indices))))"
      ],
      "execution_count": 30,
      "outputs": [
        {
          "output_type": "stream",
          "text": [
            "Enter text: I was very happy yesterday due to festival\n",
            "\n",
            "Emojify Text: \n",
            "I was very happy yesterday due to festival 😄\n"
          ],
          "name": "stdout"
        }
      ]
    }
  ]
}